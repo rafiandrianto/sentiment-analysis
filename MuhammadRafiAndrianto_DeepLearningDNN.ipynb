{
  "cells": [
    {
      "cell_type": "markdown",
      "metadata": {
        "id": "rq9jNLXgyOPp"
      },
      "source": [
        "# Sentiment Analysis with Deep Learning"
      ]
    },
    {
      "cell_type": "markdown",
      "metadata": {
        "id": "4Wkdhm-pyOPq"
      },
      "source": [
        "## Loading Packages"
      ]
    },
    {
      "cell_type": "code",
      "execution_count": 120,
      "metadata": {
        "id": "bVFlgbsyyOPr"
      },
      "outputs": [],
      "source": [
        "%reset -f\n",
        "import gensim\n",
        "import tensorflow.keras\n",
        "from tensorflow.keras.models import Sequential\n",
        "from tensorflow.keras.layers import Dropout, Activation, Dense\n",
        "from sklearn.preprocessing import LabelEncoder\n",
        "from tensorflow.keras.layers import BatchNormalization\n"
      ]
    },
    {
      "cell_type": "markdown",
      "metadata": {
        "id": "XOalYNpTyOPs"
      },
      "source": [
        "## Preparing Data"
      ]
    },
    {
      "cell_type": "code",
      "execution_count": 121,
      "metadata": {
        "colab": {
          "base_uri": "https://localhost:8080/"
        },
        "id": "9KN2VDljyOPs",
        "outputId": "d0f386e6-6596-4df5-a215-f3b62ed887a4"
      },
      "outputs": [
        {
          "output_type": "stream",
          "name": "stdout",
          "text": [
            "                                              review  rating\n",
            "0  This case is just beautiful. I can't think of ...     1.0\n",
            "1  My husband purchased these because he likes mo...     1.0\n",
            "2  Very disappointed.  This item worked a time or...     0.0\n",
            "3  ...first of all, this Lightning cable does exa...     1.0\n",
            "4  Very bad, slow, flakey software. Very slow. I ...     0.0\n"
          ]
        }
      ],
      "source": [
        "import pandas as pd\n",
        "import numpy as np\n",
        "#import text_normalizer as tn\n",
        "#import model_evaluation_utils as meu\n",
        "import nltk\n",
        "\n",
        "# set precision for numpy array printing\n",
        "np.set_printoptions(precision=2, linewidth=80)\n",
        "\n",
        "# read in the dataset from a csv file using pandas\n",
        "dataset = pd.read_csv('dataset_elec_4000.csv')\n",
        "\n",
        "# showing the data\n",
        "print(dataset.head())\n",
        "\n",
        "# extract the 'review' and 'rating' columns as numpy arrays\n",
        "reviews = np.array(dataset['review'])\n",
        "sentiments = np.array(dataset['rating'])\n",
        "\n",
        "# print the data type and shape of 'reviews' and 'sentiments'\n",
        "type(reviews)\n",
        "reviews.shape\n",
        "sentiments.shape\n",
        "# print(f'type(reviews): {type(reviews)}')\n",
        "# print(f'reviews.shape: {reviews.shape}')\n",
        "# print(f'sentiments.shape: {sentiments.shape}')\n",
        "\n",
        "# build train and test datasets\n",
        "train_reviews = reviews[:3500]\n",
        "train_sentiments = sentiments[:3500]\n",
        "test_reviews = reviews[:500]\n",
        "test_sentiments = sentiments[:500]\n",
        "\n",
        "## Processing is ignored\n",
        "# create copies of the original training and test datasets\n",
        "norm_train_reviews = train_reviews\n",
        "norm_test_reviews = test_reviews"
      ]
    },
    {
      "cell_type": "code",
      "source": [
        "print(len(train_reviews))"
      ],
      "metadata": {
        "colab": {
          "base_uri": "https://localhost:8080/"
        },
        "id": "Y6FVnnUi2Wym",
        "outputId": "1cdf62de-40d8-42c1-d8cd-e334f1dcbbc6"
      },
      "execution_count": 122,
      "outputs": [
        {
          "output_type": "stream",
          "name": "stdout",
          "text": [
            "3500\n"
          ]
        }
      ]
    },
    {
      "cell_type": "code",
      "execution_count": 123,
      "metadata": {
        "colab": {
          "base_uri": "https://localhost:8080/"
        },
        "id": "g5VQ4zXHyOPt",
        "outputId": "d8108144-b3e4-4276-df2f-1680b18f4722"
      },
      "outputs": [
        {
          "output_type": "stream",
          "name": "stdout",
          "text": [
            "Sentiment class label map: {0.0: 0, 1.0: 1}\n",
            "Sample test label transformation:\n",
            "----------------------------------- \n",
            "Actual Labels: [1. 1. 0.] \n",
            "Encoded Labels: [1 1 0] \n",
            "One hot encoded Labels:\n",
            " [[0. 1.]\n",
            " [0. 1.]\n",
            " [1. 0.]]\n"
          ]
        }
      ],
      "source": [
        "from nltk.tokenize.toktok import ToktokTokenizer\n",
        "\n",
        "# create an instance of the ToktokTokenizer\n",
        "tokenizer = ToktokTokenizer()\n",
        "\n",
        "# create an instance of the LabelEncoder and set number of class to 2\n",
        "le = LabelEncoder()\n",
        "num_classes=2 \n",
        "\n",
        "# tokenize train reviews and encode train labels, fit the label encoder to the training labels and transform them to encoded labels, and convert the encoded labels to one-hot encoded labels\n",
        "tokenized_train = [tokenizer.tokenize(text)\n",
        "                   for text in norm_train_reviews]\n",
        "y_tr = le.fit_transform(train_sentiments)\n",
        "y_train = tensorflow.keras.utils.to_categorical(y_tr, num_classes)\n",
        "\n",
        "# tokenize test reviews and encode test labels, fit the label encoder to the test labels and transform them to encoded labels, and convert the encoded labels to one-hot encoded labels\n",
        "tokenized_test = [tokenizer.tokenize(text)\n",
        "                   for text in norm_test_reviews]\n",
        "y_ts = le.fit_transform(test_sentiments)\n",
        "y_test = tensorflow.keras.utils.to_categorical(y_ts, num_classes)\n",
        "\n",
        "\n",
        "\n",
        "# print the class label encoding map and some examples of the encoded and one-hot encoded labels\n",
        "print('Sentiment class label map:', dict(zip(le.classes_, le.transform(le.classes_))))\n",
        "print('Sample test label transformation:\\n'+'-'*35,\n",
        "      '\\nActual Labels:', test_sentiments[:3], '\\nEncoded Labels:', y_ts[:3], \n",
        "      '\\nOne hot encoded Labels:\\n', y_test[:3])"
      ]
    },
    {
      "cell_type": "code",
      "source": [
        "print(len(norm_test_reviews))"
      ],
      "metadata": {
        "colab": {
          "base_uri": "https://localhost:8080/"
        },
        "id": "rlrRt_g8XEyw",
        "outputId": "7bf3d84e-6b9f-405f-e2b3-9d3f1b32ef68"
      },
      "execution_count": 124,
      "outputs": [
        {
          "output_type": "stream",
          "name": "stdout",
          "text": [
            "500\n"
          ]
        }
      ]
    },
    {
      "cell_type": "markdown",
      "metadata": {
        "id": "7VlKXpiKyOPu"
      },
      "source": [
        "## Training Word Embeddings"
      ]
    },
    {
      "cell_type": "code",
      "execution_count": 125,
      "metadata": {
        "colab": {
          "base_uri": "https://localhost:8080/"
        },
        "id": "js6nEsCUyOPu",
        "outputId": "8f2ce47e-050c-4f32-8463-751123122c8d"
      },
      "outputs": [
        {
          "output_type": "stream",
          "name": "stderr",
          "text": [
            "WARNING:gensim.models.base_any2vec:under 10 jobs per worker: consider setting a smaller `batch_words' for smoother alpha decay\n"
          ]
        },
        {
          "output_type": "stream",
          "name": "stdout",
          "text": [
            "CPU times: user 10.6 s, sys: 56.7 ms, total: 10.7 s\n",
            "Wall time: 5.93 s\n"
          ]
        }
      ],
      "source": [
        "# measure the execution time of the cell\n",
        "%%time\n",
        "\n",
        "# build word2vec model (set the number of features in the word embeddings)\n",
        "w2v_num_features = 512\n",
        "w2v_model = gensim.models.Word2Vec(tokenized_train, \n",
        "                                   size=w2v_num_features, window=150,\n",
        "                                   min_count=10, sample=1e-3, workers=16)    \n"
      ]
    },
    {
      "cell_type": "code",
      "execution_count": 126,
      "metadata": {
        "id": "aLWjNC2tyOPu"
      },
      "outputs": [],
      "source": [
        "## This model uses the document word vector averaging scheme\n",
        "## Use the average word vector representations to represent one document\n",
        "\n",
        "# Transforms a list of documents (a corpus) into a feature matrix\n",
        "def averaged_word2vec_vectorizer(corpus, model, num_features):\n",
        "\n",
        "    # create a set of words in the model's vocabulary\n",
        "    vocabulary = set(model.wv.index2word)\n",
        "    \n",
        "    # Calculates the average of the word vectors of the words in a list\n",
        "    def average_word_vectors(words, model, vocabulary, num_features):\n",
        "\n",
        "        # initialize a zero vector of size num_features\n",
        "        feature_vector = np.zeros((num_features,), dtype=\"float64\")\n",
        "\n",
        "        # initialize a counter\n",
        "        nwords = 0.\n",
        "        \n",
        "        # if the word is in the vocabulary, add its word vector to the feature vector and increment the counter\n",
        "        for word in words:\n",
        "            if word in vocabulary: \n",
        "                nwords = nwords + 1.\n",
        "                feature_vector = np.add(feature_vector, model.wv[word])\n",
        "\n",
        "        # if the counter is non-zero, divide the feature vector by the counter to get the average\n",
        "        if nwords:\n",
        "            feature_vector = np.divide(feature_vector, nwords)\n",
        "\n",
        "        return feature_vector\n",
        "\n",
        "    # apply the average_word_vectors function to each document in the corpus to get a list of feature vectors representing the documents\n",
        "    features = [average_word_vectors(tokenized_sentence, model, vocabulary, num_features)\n",
        "                    for tokenized_sentence in corpus]\n",
        "    \n",
        "    # return the feature matrix as a numpy array\n",
        "    return np.array(features)"
      ]
    },
    {
      "cell_type": "code",
      "execution_count": 127,
      "metadata": {
        "id": "yzDd4KveyOPu"
      },
      "outputs": [],
      "source": [
        "# generate feature matrices for the training and test datasets\n",
        "avg_wv_train_features = averaged_word2vec_vectorizer(corpus=tokenized_train, model=w2v_model,\n",
        "                                                     num_features=w2v_num_features)\n",
        "avg_wv_test_features = averaged_word2vec_vectorizer(corpus=tokenized_test, model=w2v_model,\n",
        "                                                    num_features=w2v_num_features)"
      ]
    },
    {
      "cell_type": "markdown",
      "metadata": {
        "id": "O_pa0ARZyOPv"
      },
      "source": [
        "## Building Model"
      ]
    },
    {
      "cell_type": "code",
      "execution_count": 128,
      "metadata": {
        "id": "uuZa-Im1yOPv"
      },
      "outputs": [],
      "source": [
        "def construct_deepnn_architecture(num_input_features):\n",
        "    # create a Sequential model\n",
        "    dnn_model = Sequential()\n",
        "\n",
        "    # add the first hidden layer\n",
        "    dnn_model.add(Dense(512, input_shape=(num_input_features,), kernel_initializer='glorot_uniform'))\n",
        "    dnn_model.add(BatchNormalization()) # normalize the activations of the previous layer (improve stability of the network)\n",
        "    dnn_model.add(Activation('relu'))  # apply the ReLU activation function (to present vanishing gradient problem)\n",
        "    dnn_model.add(Dropout(0.2)) # apply dropout to the activations of the previous layer (prevents overfitting)\n",
        "    \n",
        "    # add the second hidden layer\n",
        "    dnn_model.add(Dense(512, kernel_initializer='glorot_uniform'))\n",
        "    dnn_model.add(BatchNormalization())\n",
        "    dnn_model.add(Activation('relu'))\n",
        "    dnn_model.add(Dropout(0.2))\n",
        "    \n",
        "    # add the third hidden layer\n",
        "    dnn_model.add(Dense(512, kernel_initializer='glorot_uniform'))\n",
        "    dnn_model.add(BatchNormalization())\n",
        "    dnn_model.add(Activation('relu'))\n",
        "    dnn_model.add(Dropout(0.2))\n",
        "    \n",
        "    # add the output layer\n",
        "    dnn_model.add(Dense(2))  # 2 units because there are 2 classes\n",
        "    dnn_model.add(Activation('softmax'))  # apply the softmax activation function\n",
        "\n",
        "    # compile the model with the specified loss function, optimizer, and metrics\n",
        "    dnn_model.compile(loss='categorical_crossentropy', optimizer='adam',                 \n",
        "                      metrics=['accuracy'])\n",
        "    return dnn_model"
      ]
    },
    {
      "cell_type": "code",
      "execution_count": 129,
      "metadata": {
        "id": "-TT_QNQNyOPw"
      },
      "outputs": [],
      "source": [
        "# create a deep neural network model with the specified number of input features\n",
        "w2v_dnn = construct_deepnn_architecture(num_input_features=w2v_num_features)"
      ]
    },
    {
      "cell_type": "markdown",
      "metadata": {
        "id": "JfxJ40vryOPw"
      },
      "source": [
        "## Model Fitting"
      ]
    },
    {
      "cell_type": "markdown",
      "metadata": {
        "id": "B-NqfHOfyOPw"
      },
      "source": [
        "### Fitting using self-trained word embeddings"
      ]
    },
    {
      "cell_type": "code",
      "execution_count": 131,
      "metadata": {
        "colab": {
          "base_uri": "https://localhost:8080/"
        },
        "id": "PHXqmfkpyOPw",
        "outputId": "91cf83e6-a145-4fdf-ab47-dd36c4a71ec2"
      },
      "outputs": [
        {
          "output_type": "stream",
          "name": "stdout",
          "text": [
            "Epoch 1/200\n",
            "32/32 [==============================] - 2s 29ms/step - loss: 0.7599 - accuracy: 0.6194 - val_loss: 0.6774 - val_accuracy: 0.6114\n",
            "Epoch 2/200\n",
            "32/32 [==============================] - 1s 23ms/step - loss: 0.6934 - accuracy: 0.6486 - val_loss: 0.6645 - val_accuracy: 0.5857\n",
            "Epoch 3/200\n",
            "32/32 [==============================] - 1s 23ms/step - loss: 0.6580 - accuracy: 0.6613 - val_loss: 0.6639 - val_accuracy: 0.6171\n",
            "Epoch 4/200\n",
            "32/32 [==============================] - 1s 23ms/step - loss: 0.6280 - accuracy: 0.6730 - val_loss: 0.6638 - val_accuracy: 0.5600\n",
            "Epoch 5/200\n",
            "32/32 [==============================] - 1s 22ms/step - loss: 0.6101 - accuracy: 0.6794 - val_loss: 0.6920 - val_accuracy: 0.5229\n",
            "Epoch 6/200\n",
            "32/32 [==============================] - 1s 23ms/step - loss: 0.6140 - accuracy: 0.6819 - val_loss: 0.6380 - val_accuracy: 0.6343\n",
            "Epoch 7/200\n",
            "32/32 [==============================] - 1s 22ms/step - loss: 0.6124 - accuracy: 0.6822 - val_loss: 0.6484 - val_accuracy: 0.5857\n",
            "Epoch 8/200\n",
            "32/32 [==============================] - 1s 22ms/step - loss: 0.5842 - accuracy: 0.6956 - val_loss: 0.6275 - val_accuracy: 0.6457\n",
            "Epoch 9/200\n",
            "32/32 [==============================] - 1s 23ms/step - loss: 0.5848 - accuracy: 0.6908 - val_loss: 0.6082 - val_accuracy: 0.6771\n",
            "Epoch 10/200\n",
            "32/32 [==============================] - 1s 23ms/step - loss: 0.5777 - accuracy: 0.6971 - val_loss: 0.6262 - val_accuracy: 0.6429\n",
            "Epoch 11/200\n",
            "32/32 [==============================] - 1s 24ms/step - loss: 0.5908 - accuracy: 0.6994 - val_loss: 0.6242 - val_accuracy: 0.6514\n",
            "Epoch 12/200\n",
            "32/32 [==============================] - 1s 22ms/step - loss: 0.5676 - accuracy: 0.7057 - val_loss: 0.5861 - val_accuracy: 0.7114\n",
            "Epoch 13/200\n",
            "32/32 [==============================] - 1s 22ms/step - loss: 0.5736 - accuracy: 0.7143 - val_loss: 0.6076 - val_accuracy: 0.6629\n",
            "Epoch 14/200\n",
            "32/32 [==============================] - 1s 23ms/step - loss: 0.5572 - accuracy: 0.7162 - val_loss: 0.5714 - val_accuracy: 0.6943\n",
            "Epoch 15/200\n",
            "32/32 [==============================] - 1s 22ms/step - loss: 0.5553 - accuracy: 0.7143 - val_loss: 0.5659 - val_accuracy: 0.7257\n",
            "Epoch 16/200\n",
            "32/32 [==============================] - 1s 22ms/step - loss: 0.5597 - accuracy: 0.7152 - val_loss: 0.5861 - val_accuracy: 0.7086\n",
            "Epoch 17/200\n",
            "32/32 [==============================] - 1s 22ms/step - loss: 0.5424 - accuracy: 0.7321 - val_loss: 0.6246 - val_accuracy: 0.6514\n",
            "Epoch 18/200\n",
            "32/32 [==============================] - 1s 22ms/step - loss: 0.5514 - accuracy: 0.7298 - val_loss: 0.5781 - val_accuracy: 0.6914\n",
            "Epoch 19/200\n",
            "32/32 [==============================] - 1s 22ms/step - loss: 0.5630 - accuracy: 0.7171 - val_loss: 0.6320 - val_accuracy: 0.6629\n",
            "Epoch 20/200\n",
            "32/32 [==============================] - 1s 22ms/step - loss: 0.5431 - accuracy: 0.7276 - val_loss: 0.5865 - val_accuracy: 0.6857\n",
            "Epoch 21/200\n",
            "32/32 [==============================] - 1s 22ms/step - loss: 0.5399 - accuracy: 0.7276 - val_loss: 0.5887 - val_accuracy: 0.7000\n",
            "Epoch 22/200\n",
            "32/32 [==============================] - 1s 22ms/step - loss: 0.5391 - accuracy: 0.7311 - val_loss: 0.6590 - val_accuracy: 0.6457\n",
            "Epoch 23/200\n",
            "32/32 [==============================] - 1s 23ms/step - loss: 0.5405 - accuracy: 0.7289 - val_loss: 0.6927 - val_accuracy: 0.6457\n",
            "Epoch 24/200\n",
            "32/32 [==============================] - 1s 22ms/step - loss: 0.5329 - accuracy: 0.7311 - val_loss: 0.6745 - val_accuracy: 0.6286\n",
            "Epoch 25/200\n",
            "32/32 [==============================] - 1s 22ms/step - loss: 0.5243 - accuracy: 0.7337 - val_loss: 0.6092 - val_accuracy: 0.6886\n",
            "Epoch 26/200\n",
            "32/32 [==============================] - 1s 22ms/step - loss: 0.5312 - accuracy: 0.7413 - val_loss: 0.6521 - val_accuracy: 0.6514\n",
            "Epoch 27/200\n",
            "32/32 [==============================] - 1s 23ms/step - loss: 0.5286 - accuracy: 0.7371 - val_loss: 0.5601 - val_accuracy: 0.7143\n",
            "Epoch 28/200\n",
            "32/32 [==============================] - 1s 22ms/step - loss: 0.5306 - accuracy: 0.7400 - val_loss: 0.5636 - val_accuracy: 0.7200\n",
            "Epoch 29/200\n",
            "32/32 [==============================] - 1s 23ms/step - loss: 0.5259 - accuracy: 0.7425 - val_loss: 0.5623 - val_accuracy: 0.7114\n",
            "Epoch 30/200\n",
            "32/32 [==============================] - 1s 22ms/step - loss: 0.5350 - accuracy: 0.7356 - val_loss: 0.5726 - val_accuracy: 0.6886\n",
            "Epoch 31/200\n",
            "32/32 [==============================] - 1s 22ms/step - loss: 0.5201 - accuracy: 0.7463 - val_loss: 0.5725 - val_accuracy: 0.7029\n",
            "Epoch 32/200\n",
            "32/32 [==============================] - 1s 22ms/step - loss: 0.5272 - accuracy: 0.7375 - val_loss: 0.5630 - val_accuracy: 0.7200\n",
            "Epoch 33/200\n",
            "32/32 [==============================] - 1s 22ms/step - loss: 0.5237 - accuracy: 0.7308 - val_loss: 0.5579 - val_accuracy: 0.7257\n",
            "Epoch 34/200\n",
            "32/32 [==============================] - 1s 23ms/step - loss: 0.5141 - accuracy: 0.7416 - val_loss: 0.8717 - val_accuracy: 0.5743\n",
            "Epoch 35/200\n",
            "32/32 [==============================] - 1s 22ms/step - loss: 0.5194 - accuracy: 0.7406 - val_loss: 0.5738 - val_accuracy: 0.7000\n",
            "Epoch 36/200\n",
            "32/32 [==============================] - 1s 22ms/step - loss: 0.5118 - accuracy: 0.7495 - val_loss: 0.5473 - val_accuracy: 0.7229\n",
            "Epoch 37/200\n",
            "32/32 [==============================] - 1s 22ms/step - loss: 0.5142 - accuracy: 0.7406 - val_loss: 0.5464 - val_accuracy: 0.7257\n",
            "Epoch 38/200\n",
            "32/32 [==============================] - 1s 22ms/step - loss: 0.5155 - accuracy: 0.7438 - val_loss: 0.8040 - val_accuracy: 0.6029\n",
            "Epoch 39/200\n",
            "32/32 [==============================] - 1s 24ms/step - loss: 0.5131 - accuracy: 0.7448 - val_loss: 0.5763 - val_accuracy: 0.7000\n",
            "Epoch 40/200\n",
            "32/32 [==============================] - 1s 23ms/step - loss: 0.5173 - accuracy: 0.7413 - val_loss: 0.6873 - val_accuracy: 0.6143\n",
            "Epoch 41/200\n",
            "32/32 [==============================] - 1s 23ms/step - loss: 0.5187 - accuracy: 0.7444 - val_loss: 0.6015 - val_accuracy: 0.6829\n",
            "Epoch 42/200\n",
            "32/32 [==============================] - 1s 22ms/step - loss: 0.5138 - accuracy: 0.7425 - val_loss: 0.5713 - val_accuracy: 0.7200\n",
            "Epoch 43/200\n",
            "32/32 [==============================] - 1s 23ms/step - loss: 0.5118 - accuracy: 0.7483 - val_loss: 0.5616 - val_accuracy: 0.7114\n",
            "Epoch 44/200\n",
            "32/32 [==============================] - 1s 22ms/step - loss: 0.5156 - accuracy: 0.7419 - val_loss: 0.7567 - val_accuracy: 0.6314\n",
            "Epoch 45/200\n",
            "32/32 [==============================] - 1s 21ms/step - loss: 0.5049 - accuracy: 0.7549 - val_loss: 0.6827 - val_accuracy: 0.6429\n",
            "Epoch 46/200\n",
            "32/32 [==============================] - 1s 24ms/step - loss: 0.5170 - accuracy: 0.7438 - val_loss: 0.6376 - val_accuracy: 0.6571\n",
            "Epoch 47/200\n",
            "32/32 [==============================] - 1s 22ms/step - loss: 0.5048 - accuracy: 0.7454 - val_loss: 0.5508 - val_accuracy: 0.7314\n",
            "Epoch 48/200\n",
            "32/32 [==============================] - 1s 24ms/step - loss: 0.5008 - accuracy: 0.7517 - val_loss: 0.5480 - val_accuracy: 0.7400\n",
            "Epoch 49/200\n",
            "32/32 [==============================] - 1s 23ms/step - loss: 0.5002 - accuracy: 0.7537 - val_loss: 0.6642 - val_accuracy: 0.6457\n",
            "Epoch 50/200\n",
            "32/32 [==============================] - 1s 24ms/step - loss: 0.5079 - accuracy: 0.7451 - val_loss: 0.9708 - val_accuracy: 0.5629\n",
            "Epoch 51/200\n",
            "32/32 [==============================] - 1s 22ms/step - loss: 0.5038 - accuracy: 0.7511 - val_loss: 0.7395 - val_accuracy: 0.6429\n",
            "Epoch 52/200\n",
            "32/32 [==============================] - 1s 22ms/step - loss: 0.4989 - accuracy: 0.7616 - val_loss: 0.5867 - val_accuracy: 0.6943\n",
            "Epoch 53/200\n",
            "32/32 [==============================] - 1s 23ms/step - loss: 0.4928 - accuracy: 0.7590 - val_loss: 0.5638 - val_accuracy: 0.7086\n",
            "Epoch 54/200\n",
            "32/32 [==============================] - 1s 23ms/step - loss: 0.4870 - accuracy: 0.7597 - val_loss: 0.6696 - val_accuracy: 0.6714\n",
            "Epoch 55/200\n",
            "32/32 [==============================] - 1s 23ms/step - loss: 0.4928 - accuracy: 0.7625 - val_loss: 0.6935 - val_accuracy: 0.6514\n",
            "Epoch 56/200\n",
            "32/32 [==============================] - 1s 22ms/step - loss: 0.4909 - accuracy: 0.7657 - val_loss: 0.7028 - val_accuracy: 0.6400\n",
            "Epoch 57/200\n",
            "32/32 [==============================] - 1s 22ms/step - loss: 0.4919 - accuracy: 0.7559 - val_loss: 0.5583 - val_accuracy: 0.7143\n",
            "Epoch 58/200\n",
            "32/32 [==============================] - 1s 23ms/step - loss: 0.4980 - accuracy: 0.7613 - val_loss: 0.5561 - val_accuracy: 0.7143\n",
            "Epoch 59/200\n",
            "32/32 [==============================] - 1s 22ms/step - loss: 0.4876 - accuracy: 0.7565 - val_loss: 0.6521 - val_accuracy: 0.6714\n",
            "Epoch 60/200\n",
            "32/32 [==============================] - 1s 23ms/step - loss: 0.4961 - accuracy: 0.7581 - val_loss: 0.5712 - val_accuracy: 0.7143\n",
            "Epoch 61/200\n",
            "32/32 [==============================] - 1s 23ms/step - loss: 0.4918 - accuracy: 0.7629 - val_loss: 0.7438 - val_accuracy: 0.6457\n",
            "Epoch 62/200\n",
            "32/32 [==============================] - 1s 22ms/step - loss: 0.4913 - accuracy: 0.7613 - val_loss: 0.5860 - val_accuracy: 0.6943\n",
            "Epoch 63/200\n",
            "32/32 [==============================] - 1s 22ms/step - loss: 0.4818 - accuracy: 0.7571 - val_loss: 0.9905 - val_accuracy: 0.5571\n",
            "Epoch 64/200\n",
            "32/32 [==============================] - 1s 23ms/step - loss: 0.4790 - accuracy: 0.7705 - val_loss: 0.6323 - val_accuracy: 0.6771\n",
            "Epoch 65/200\n",
            "32/32 [==============================] - 1s 23ms/step - loss: 0.4914 - accuracy: 0.7695 - val_loss: 0.5658 - val_accuracy: 0.7257\n",
            "Epoch 66/200\n",
            "32/32 [==============================] - 1s 22ms/step - loss: 0.4846 - accuracy: 0.7648 - val_loss: 0.6983 - val_accuracy: 0.6343\n",
            "Epoch 67/200\n",
            "32/32 [==============================] - 1s 23ms/step - loss: 0.4891 - accuracy: 0.7546 - val_loss: 0.5746 - val_accuracy: 0.7229\n",
            "Epoch 68/200\n",
            "32/32 [==============================] - 1s 23ms/step - loss: 0.4822 - accuracy: 0.7581 - val_loss: 0.5541 - val_accuracy: 0.7171\n",
            "Epoch 69/200\n",
            "32/32 [==============================] - 1s 22ms/step - loss: 0.4731 - accuracy: 0.7746 - val_loss: 0.5886 - val_accuracy: 0.7114\n",
            "Epoch 70/200\n",
            "32/32 [==============================] - 1s 22ms/step - loss: 0.4776 - accuracy: 0.7740 - val_loss: 0.8031 - val_accuracy: 0.6057\n",
            "Epoch 71/200\n",
            "32/32 [==============================] - 1s 22ms/step - loss: 0.4788 - accuracy: 0.7600 - val_loss: 0.6293 - val_accuracy: 0.6886\n",
            "Epoch 72/200\n",
            "32/32 [==============================] - 1s 22ms/step - loss: 0.4757 - accuracy: 0.7632 - val_loss: 0.5861 - val_accuracy: 0.6971\n",
            "Epoch 73/200\n",
            "32/32 [==============================] - 1s 22ms/step - loss: 0.4807 - accuracy: 0.7702 - val_loss: 0.6335 - val_accuracy: 0.7000\n",
            "Epoch 74/200\n",
            "32/32 [==============================] - 1s 23ms/step - loss: 0.4691 - accuracy: 0.7663 - val_loss: 0.6048 - val_accuracy: 0.6943\n",
            "Epoch 75/200\n",
            "32/32 [==============================] - 1s 23ms/step - loss: 0.4713 - accuracy: 0.7727 - val_loss: 0.5605 - val_accuracy: 0.7086\n",
            "Epoch 76/200\n",
            "32/32 [==============================] - 1s 22ms/step - loss: 0.4673 - accuracy: 0.7740 - val_loss: 0.6199 - val_accuracy: 0.7029\n",
            "Epoch 77/200\n",
            "32/32 [==============================] - 1s 22ms/step - loss: 0.4821 - accuracy: 0.7635 - val_loss: 0.6238 - val_accuracy: 0.6914\n",
            "Epoch 78/200\n",
            "32/32 [==============================] - 1s 23ms/step - loss: 0.4783 - accuracy: 0.7641 - val_loss: 0.7293 - val_accuracy: 0.6314\n",
            "Epoch 79/200\n",
            "32/32 [==============================] - 1s 24ms/step - loss: 0.4697 - accuracy: 0.7692 - val_loss: 0.5496 - val_accuracy: 0.7286\n",
            "Epoch 80/200\n",
            "32/32 [==============================] - 1s 23ms/step - loss: 0.4616 - accuracy: 0.7775 - val_loss: 0.5781 - val_accuracy: 0.7143\n",
            "Epoch 81/200\n",
            "32/32 [==============================] - 1s 24ms/step - loss: 0.4682 - accuracy: 0.7695 - val_loss: 0.6465 - val_accuracy: 0.6886\n",
            "Epoch 82/200\n",
            "32/32 [==============================] - 1s 24ms/step - loss: 0.4761 - accuracy: 0.7721 - val_loss: 0.5574 - val_accuracy: 0.7171\n",
            "Epoch 83/200\n",
            "32/32 [==============================] - 1s 22ms/step - loss: 0.4625 - accuracy: 0.7806 - val_loss: 0.6074 - val_accuracy: 0.6771\n",
            "Epoch 84/200\n",
            "32/32 [==============================] - 1s 24ms/step - loss: 0.4617 - accuracy: 0.7765 - val_loss: 0.5638 - val_accuracy: 0.7257\n",
            "Epoch 85/200\n",
            "32/32 [==============================] - 1s 23ms/step - loss: 0.4629 - accuracy: 0.7733 - val_loss: 0.6935 - val_accuracy: 0.6257\n",
            "Epoch 86/200\n",
            "32/32 [==============================] - 1s 23ms/step - loss: 0.4651 - accuracy: 0.7800 - val_loss: 0.6101 - val_accuracy: 0.7057\n",
            "Epoch 87/200\n",
            "32/32 [==============================] - 1s 23ms/step - loss: 0.4760 - accuracy: 0.7749 - val_loss: 0.5831 - val_accuracy: 0.7257\n",
            "Epoch 88/200\n",
            "32/32 [==============================] - 1s 22ms/step - loss: 0.4717 - accuracy: 0.7717 - val_loss: 0.5591 - val_accuracy: 0.7229\n",
            "Epoch 89/200\n",
            "32/32 [==============================] - 1s 22ms/step - loss: 0.4564 - accuracy: 0.7746 - val_loss: 0.5911 - val_accuracy: 0.7029\n",
            "Epoch 90/200\n",
            "32/32 [==============================] - 1s 23ms/step - loss: 0.4638 - accuracy: 0.7714 - val_loss: 0.6680 - val_accuracy: 0.6857\n",
            "Epoch 91/200\n",
            "32/32 [==============================] - 1s 22ms/step - loss: 0.4575 - accuracy: 0.7803 - val_loss: 0.5934 - val_accuracy: 0.7257\n",
            "Epoch 92/200\n",
            "32/32 [==============================] - 1s 22ms/step - loss: 0.4593 - accuracy: 0.7737 - val_loss: 0.6388 - val_accuracy: 0.6943\n",
            "Epoch 93/200\n",
            "32/32 [==============================] - 1s 23ms/step - loss: 0.4587 - accuracy: 0.7749 - val_loss: 0.5460 - val_accuracy: 0.7314\n",
            "Epoch 94/200\n",
            "32/32 [==============================] - 1s 22ms/step - loss: 0.4640 - accuracy: 0.7740 - val_loss: 0.5898 - val_accuracy: 0.7086\n",
            "Epoch 95/200\n",
            "32/32 [==============================] - 1s 22ms/step - loss: 0.4513 - accuracy: 0.7841 - val_loss: 0.6195 - val_accuracy: 0.7029\n",
            "Epoch 96/200\n",
            "32/32 [==============================] - 1s 22ms/step - loss: 0.4543 - accuracy: 0.7873 - val_loss: 0.6385 - val_accuracy: 0.6857\n",
            "Epoch 97/200\n",
            "32/32 [==============================] - 1s 24ms/step - loss: 0.4482 - accuracy: 0.7832 - val_loss: 0.6386 - val_accuracy: 0.6800\n",
            "Epoch 98/200\n",
            "32/32 [==============================] - 1s 22ms/step - loss: 0.4438 - accuracy: 0.7867 - val_loss: 0.6022 - val_accuracy: 0.7057\n",
            "Epoch 99/200\n",
            "32/32 [==============================] - 1s 23ms/step - loss: 0.4496 - accuracy: 0.7841 - val_loss: 0.6565 - val_accuracy: 0.6829\n",
            "Epoch 100/200\n",
            "32/32 [==============================] - 1s 22ms/step - loss: 0.4386 - accuracy: 0.7841 - val_loss: 0.5898 - val_accuracy: 0.7257\n",
            "Epoch 101/200\n",
            "32/32 [==============================] - 1s 22ms/step - loss: 0.4447 - accuracy: 0.7838 - val_loss: 0.6414 - val_accuracy: 0.6771\n",
            "Epoch 102/200\n",
            "32/32 [==============================] - 1s 22ms/step - loss: 0.4329 - accuracy: 0.7959 - val_loss: 0.6800 - val_accuracy: 0.6971\n",
            "Epoch 103/200\n",
            "32/32 [==============================] - 1s 23ms/step - loss: 0.4426 - accuracy: 0.7857 - val_loss: 0.8187 - val_accuracy: 0.6486\n",
            "Epoch 104/200\n",
            "32/32 [==============================] - 1s 24ms/step - loss: 0.4428 - accuracy: 0.7876 - val_loss: 0.6059 - val_accuracy: 0.7057\n",
            "Epoch 105/200\n",
            "32/32 [==============================] - 1s 23ms/step - loss: 0.4463 - accuracy: 0.7825 - val_loss: 0.6405 - val_accuracy: 0.6686\n",
            "Epoch 106/200\n",
            "32/32 [==============================] - 1s 23ms/step - loss: 0.4415 - accuracy: 0.7895 - val_loss: 0.5876 - val_accuracy: 0.7114\n",
            "Epoch 107/200\n",
            "32/32 [==============================] - 1s 22ms/step - loss: 0.4329 - accuracy: 0.7924 - val_loss: 0.7345 - val_accuracy: 0.6371\n",
            "Epoch 108/200\n",
            "32/32 [==============================] - 1s 22ms/step - loss: 0.4335 - accuracy: 0.7943 - val_loss: 0.6344 - val_accuracy: 0.7143\n",
            "Epoch 109/200\n",
            "32/32 [==============================] - 1s 22ms/step - loss: 0.4371 - accuracy: 0.7956 - val_loss: 0.6127 - val_accuracy: 0.7057\n",
            "Epoch 110/200\n",
            "32/32 [==============================] - 1s 23ms/step - loss: 0.4467 - accuracy: 0.7857 - val_loss: 0.6391 - val_accuracy: 0.7029\n",
            "Epoch 111/200\n",
            "32/32 [==============================] - 1s 23ms/step - loss: 0.4369 - accuracy: 0.7917 - val_loss: 0.6376 - val_accuracy: 0.6800\n",
            "Epoch 112/200\n",
            "32/32 [==============================] - 1s 22ms/step - loss: 0.4398 - accuracy: 0.7844 - val_loss: 0.6003 - val_accuracy: 0.7000\n",
            "Epoch 113/200\n",
            "32/32 [==============================] - 1s 23ms/step - loss: 0.4432 - accuracy: 0.7879 - val_loss: 0.6154 - val_accuracy: 0.6886\n",
            "Epoch 114/200\n",
            "32/32 [==============================] - 1s 22ms/step - loss: 0.4271 - accuracy: 0.7921 - val_loss: 0.7011 - val_accuracy: 0.6914\n",
            "Epoch 115/200\n",
            "32/32 [==============================] - 1s 22ms/step - loss: 0.4288 - accuracy: 0.7968 - val_loss: 0.6145 - val_accuracy: 0.7057\n",
            "Epoch 116/200\n",
            "32/32 [==============================] - 1s 23ms/step - loss: 0.4195 - accuracy: 0.7984 - val_loss: 0.6682 - val_accuracy: 0.7086\n",
            "Epoch 117/200\n",
            "32/32 [==============================] - 1s 23ms/step - loss: 0.4179 - accuracy: 0.7997 - val_loss: 0.6025 - val_accuracy: 0.7229\n",
            "Epoch 118/200\n",
            "32/32 [==============================] - 1s 23ms/step - loss: 0.4387 - accuracy: 0.7863 - val_loss: 0.6192 - val_accuracy: 0.6943\n",
            "Epoch 119/200\n",
            "32/32 [==============================] - 1s 22ms/step - loss: 0.4266 - accuracy: 0.7952 - val_loss: 0.6230 - val_accuracy: 0.7000\n",
            "Epoch 120/200\n",
            "32/32 [==============================] - 1s 23ms/step - loss: 0.4130 - accuracy: 0.8038 - val_loss: 0.6119 - val_accuracy: 0.6943\n",
            "Epoch 121/200\n",
            "32/32 [==============================] - 1s 23ms/step - loss: 0.4167 - accuracy: 0.8063 - val_loss: 0.6125 - val_accuracy: 0.7114\n",
            "Epoch 122/200\n",
            "32/32 [==============================] - 1s 22ms/step - loss: 0.4332 - accuracy: 0.7863 - val_loss: 0.5871 - val_accuracy: 0.6943\n",
            "Epoch 123/200\n",
            "32/32 [==============================] - 1s 22ms/step - loss: 0.4197 - accuracy: 0.7971 - val_loss: 0.6917 - val_accuracy: 0.6800\n",
            "Epoch 124/200\n",
            "32/32 [==============================] - 1s 23ms/step - loss: 0.4090 - accuracy: 0.8073 - val_loss: 0.6695 - val_accuracy: 0.6914\n",
            "Epoch 125/200\n",
            "32/32 [==============================] - 1s 22ms/step - loss: 0.4083 - accuracy: 0.8057 - val_loss: 0.6001 - val_accuracy: 0.7057\n",
            "Epoch 126/200\n",
            "32/32 [==============================] - 1s 22ms/step - loss: 0.4083 - accuracy: 0.8044 - val_loss: 0.6685 - val_accuracy: 0.6800\n",
            "Epoch 127/200\n",
            "32/32 [==============================] - 1s 23ms/step - loss: 0.4170 - accuracy: 0.8000 - val_loss: 0.8467 - val_accuracy: 0.6371\n",
            "Epoch 128/200\n",
            "32/32 [==============================] - 1s 22ms/step - loss: 0.4040 - accuracy: 0.8054 - val_loss: 0.6314 - val_accuracy: 0.6971\n",
            "Epoch 129/200\n",
            "32/32 [==============================] - 1s 24ms/step - loss: 0.4155 - accuracy: 0.8029 - val_loss: 0.6242 - val_accuracy: 0.7000\n",
            "Epoch 130/200\n",
            "32/32 [==============================] - 1s 23ms/step - loss: 0.4121 - accuracy: 0.8022 - val_loss: 0.7586 - val_accuracy: 0.6600\n",
            "Epoch 131/200\n",
            "32/32 [==============================] - 1s 23ms/step - loss: 0.4057 - accuracy: 0.8130 - val_loss: 0.6091 - val_accuracy: 0.7000\n",
            "Epoch 132/200\n",
            "32/32 [==============================] - 1s 23ms/step - loss: 0.4133 - accuracy: 0.8035 - val_loss: 0.6793 - val_accuracy: 0.7000\n",
            "Epoch 133/200\n",
            "32/32 [==============================] - 1s 22ms/step - loss: 0.4079 - accuracy: 0.8038 - val_loss: 0.6370 - val_accuracy: 0.6943\n",
            "Epoch 134/200\n",
            "32/32 [==============================] - 1s 24ms/step - loss: 0.3952 - accuracy: 0.8108 - val_loss: 0.7011 - val_accuracy: 0.7000\n",
            "Epoch 135/200\n",
            "32/32 [==============================] - 1s 23ms/step - loss: 0.4095 - accuracy: 0.8108 - val_loss: 0.6818 - val_accuracy: 0.6943\n",
            "Epoch 136/200\n",
            "32/32 [==============================] - 1s 22ms/step - loss: 0.3905 - accuracy: 0.8175 - val_loss: 0.6595 - val_accuracy: 0.7171\n",
            "Epoch 137/200\n",
            "32/32 [==============================] - 1s 23ms/step - loss: 0.4137 - accuracy: 0.8032 - val_loss: 0.6949 - val_accuracy: 0.7029\n",
            "Epoch 138/200\n",
            "32/32 [==============================] - 1s 23ms/step - loss: 0.4102 - accuracy: 0.8127 - val_loss: 0.6335 - val_accuracy: 0.7314\n",
            "Epoch 139/200\n",
            "32/32 [==============================] - 1s 23ms/step - loss: 0.3901 - accuracy: 0.8152 - val_loss: 0.6754 - val_accuracy: 0.6943\n",
            "Epoch 140/200\n",
            "32/32 [==============================] - 1s 22ms/step - loss: 0.3918 - accuracy: 0.8165 - val_loss: 0.8157 - val_accuracy: 0.6829\n",
            "Epoch 141/200\n",
            "32/32 [==============================] - 1s 23ms/step - loss: 0.4009 - accuracy: 0.8079 - val_loss: 0.6086 - val_accuracy: 0.6971\n",
            "Epoch 142/200\n",
            "32/32 [==============================] - 1s 22ms/step - loss: 0.3988 - accuracy: 0.8152 - val_loss: 0.8538 - val_accuracy: 0.6457\n",
            "Epoch 143/200\n",
            "32/32 [==============================] - 1s 22ms/step - loss: 0.3837 - accuracy: 0.8210 - val_loss: 0.6719 - val_accuracy: 0.6971\n",
            "Epoch 144/200\n",
            "32/32 [==============================] - 1s 23ms/step - loss: 0.3889 - accuracy: 0.8156 - val_loss: 0.6777 - val_accuracy: 0.7143\n",
            "Epoch 145/200\n",
            "32/32 [==============================] - 1s 22ms/step - loss: 0.3768 - accuracy: 0.8216 - val_loss: 0.6470 - val_accuracy: 0.7086\n",
            "Epoch 146/200\n",
            "32/32 [==============================] - 1s 24ms/step - loss: 0.3736 - accuracy: 0.8308 - val_loss: 0.6595 - val_accuracy: 0.6914\n",
            "Epoch 147/200\n",
            "32/32 [==============================] - 1s 23ms/step - loss: 0.3866 - accuracy: 0.8248 - val_loss: 0.8535 - val_accuracy: 0.6857\n",
            "Epoch 148/200\n",
            "32/32 [==============================] - 1s 23ms/step - loss: 0.3863 - accuracy: 0.8200 - val_loss: 0.6840 - val_accuracy: 0.7171\n",
            "Epoch 149/200\n",
            "32/32 [==============================] - 1s 23ms/step - loss: 0.3669 - accuracy: 0.8225 - val_loss: 0.6687 - val_accuracy: 0.7057\n",
            "Epoch 150/200\n",
            "32/32 [==============================] - 1s 22ms/step - loss: 0.3897 - accuracy: 0.8200 - val_loss: 0.7339 - val_accuracy: 0.7000\n",
            "Epoch 151/200\n",
            "32/32 [==============================] - 1s 24ms/step - loss: 0.3945 - accuracy: 0.8203 - val_loss: 0.6783 - val_accuracy: 0.6857\n",
            "Epoch 152/200\n",
            "32/32 [==============================] - 1s 23ms/step - loss: 0.3732 - accuracy: 0.8254 - val_loss: 0.7128 - val_accuracy: 0.6486\n",
            "Epoch 153/200\n",
            "32/32 [==============================] - 1s 23ms/step - loss: 0.3726 - accuracy: 0.8263 - val_loss: 0.6484 - val_accuracy: 0.6829\n",
            "Epoch 154/200\n",
            "32/32 [==============================] - 1s 22ms/step - loss: 0.3616 - accuracy: 0.8330 - val_loss: 0.6743 - val_accuracy: 0.6914\n",
            "Epoch 155/200\n",
            "32/32 [==============================] - 1s 22ms/step - loss: 0.3796 - accuracy: 0.8222 - val_loss: 0.6897 - val_accuracy: 0.7143\n",
            "Epoch 156/200\n",
            "32/32 [==============================] - 1s 23ms/step - loss: 0.3689 - accuracy: 0.8244 - val_loss: 0.6793 - val_accuracy: 0.6914\n",
            "Epoch 157/200\n",
            "32/32 [==============================] - 1s 22ms/step - loss: 0.3830 - accuracy: 0.8194 - val_loss: 0.7029 - val_accuracy: 0.7057\n",
            "Epoch 158/200\n",
            "32/32 [==============================] - 1s 22ms/step - loss: 0.3852 - accuracy: 0.8194 - val_loss: 0.6533 - val_accuracy: 0.6857\n",
            "Epoch 159/200\n",
            "32/32 [==============================] - 1s 23ms/step - loss: 0.3690 - accuracy: 0.8410 - val_loss: 0.6970 - val_accuracy: 0.6857\n",
            "Epoch 160/200\n",
            "32/32 [==============================] - 1s 23ms/step - loss: 0.3651 - accuracy: 0.8302 - val_loss: 0.7482 - val_accuracy: 0.6943\n",
            "Epoch 161/200\n",
            "32/32 [==============================] - 1s 22ms/step - loss: 0.3698 - accuracy: 0.8254 - val_loss: 0.7477 - val_accuracy: 0.7086\n",
            "Epoch 162/200\n",
            "32/32 [==============================] - 1s 23ms/step - loss: 0.3644 - accuracy: 0.8317 - val_loss: 0.6477 - val_accuracy: 0.7143\n",
            "Epoch 163/200\n",
            "32/32 [==============================] - 1s 24ms/step - loss: 0.3573 - accuracy: 0.8327 - val_loss: 0.9942 - val_accuracy: 0.6229\n",
            "Epoch 164/200\n",
            "32/32 [==============================] - 1s 22ms/step - loss: 0.3645 - accuracy: 0.8314 - val_loss: 0.7675 - val_accuracy: 0.7029\n",
            "Epoch 165/200\n",
            "32/32 [==============================] - 1s 22ms/step - loss: 0.3741 - accuracy: 0.8286 - val_loss: 0.7214 - val_accuracy: 0.6914\n",
            "Epoch 166/200\n",
            "32/32 [==============================] - 1s 23ms/step - loss: 0.3602 - accuracy: 0.8321 - val_loss: 0.6293 - val_accuracy: 0.7057\n",
            "Epoch 167/200\n",
            "32/32 [==============================] - 1s 22ms/step - loss: 0.3595 - accuracy: 0.8333 - val_loss: 0.6801 - val_accuracy: 0.7143\n",
            "Epoch 168/200\n",
            "32/32 [==============================] - 1s 22ms/step - loss: 0.3456 - accuracy: 0.8495 - val_loss: 0.7192 - val_accuracy: 0.7143\n",
            "Epoch 169/200\n",
            "32/32 [==============================] - 1s 22ms/step - loss: 0.3638 - accuracy: 0.8327 - val_loss: 0.7291 - val_accuracy: 0.7314\n",
            "Epoch 170/200\n",
            "32/32 [==============================] - 1s 22ms/step - loss: 0.3467 - accuracy: 0.8330 - val_loss: 0.7583 - val_accuracy: 0.6886\n",
            "Epoch 171/200\n",
            "32/32 [==============================] - 1s 22ms/step - loss: 0.3682 - accuracy: 0.8292 - val_loss: 0.7733 - val_accuracy: 0.7029\n",
            "Epoch 172/200\n",
            "32/32 [==============================] - 1s 23ms/step - loss: 0.3600 - accuracy: 0.8343 - val_loss: 0.7502 - val_accuracy: 0.7343\n",
            "Epoch 173/200\n",
            "32/32 [==============================] - 1s 22ms/step - loss: 0.3506 - accuracy: 0.8397 - val_loss: 0.7789 - val_accuracy: 0.6829\n",
            "Epoch 174/200\n",
            "32/32 [==============================] - 1s 22ms/step - loss: 0.3430 - accuracy: 0.8403 - val_loss: 0.6635 - val_accuracy: 0.7114\n",
            "Epoch 175/200\n",
            "32/32 [==============================] - 1s 22ms/step - loss: 0.3336 - accuracy: 0.8533 - val_loss: 0.7881 - val_accuracy: 0.7000\n",
            "Epoch 176/200\n",
            "32/32 [==============================] - 1s 23ms/step - loss: 0.3406 - accuracy: 0.8435 - val_loss: 0.7076 - val_accuracy: 0.7114\n",
            "Epoch 177/200\n",
            "32/32 [==============================] - 1s 23ms/step - loss: 0.3363 - accuracy: 0.8476 - val_loss: 0.7995 - val_accuracy: 0.6971\n",
            "Epoch 178/200\n",
            "32/32 [==============================] - 1s 22ms/step - loss: 0.3367 - accuracy: 0.8486 - val_loss: 0.8128 - val_accuracy: 0.6857\n",
            "Epoch 179/200\n",
            "32/32 [==============================] - 1s 23ms/step - loss: 0.3493 - accuracy: 0.8413 - val_loss: 0.8652 - val_accuracy: 0.6771\n",
            "Epoch 180/200\n",
            "32/32 [==============================] - 1s 23ms/step - loss: 0.3328 - accuracy: 0.8514 - val_loss: 0.7128 - val_accuracy: 0.7057\n",
            "Epoch 181/200\n",
            "32/32 [==============================] - 1s 22ms/step - loss: 0.3371 - accuracy: 0.8463 - val_loss: 0.7893 - val_accuracy: 0.6886\n",
            "Epoch 182/200\n",
            "32/32 [==============================] - 1s 23ms/step - loss: 0.3353 - accuracy: 0.8454 - val_loss: 0.7396 - val_accuracy: 0.6686\n",
            "Epoch 183/200\n",
            "32/32 [==============================] - 1s 22ms/step - loss: 0.3269 - accuracy: 0.8568 - val_loss: 0.8031 - val_accuracy: 0.6771\n",
            "Epoch 184/200\n",
            "32/32 [==============================] - 1s 22ms/step - loss: 0.3510 - accuracy: 0.8403 - val_loss: 0.7704 - val_accuracy: 0.7057\n",
            "Epoch 185/200\n",
            "32/32 [==============================] - 1s 22ms/step - loss: 0.3455 - accuracy: 0.8410 - val_loss: 0.8907 - val_accuracy: 0.6800\n",
            "Epoch 186/200\n",
            "32/32 [==============================] - 1s 22ms/step - loss: 0.3428 - accuracy: 0.8460 - val_loss: 0.7944 - val_accuracy: 0.7114\n",
            "Epoch 187/200\n",
            "32/32 [==============================] - 1s 24ms/step - loss: 0.3357 - accuracy: 0.8486 - val_loss: 0.7581 - val_accuracy: 0.6829\n",
            "Epoch 188/200\n",
            "32/32 [==============================] - 1s 23ms/step - loss: 0.3255 - accuracy: 0.8495 - val_loss: 0.6985 - val_accuracy: 0.7086\n",
            "Epoch 189/200\n",
            "32/32 [==============================] - 1s 22ms/step - loss: 0.3347 - accuracy: 0.8511 - val_loss: 0.7510 - val_accuracy: 0.7114\n",
            "Epoch 190/200\n",
            "32/32 [==============================] - 1s 23ms/step - loss: 0.3167 - accuracy: 0.8556 - val_loss: 0.8179 - val_accuracy: 0.6771\n",
            "Epoch 191/200\n",
            "32/32 [==============================] - 1s 23ms/step - loss: 0.3299 - accuracy: 0.8473 - val_loss: 0.7456 - val_accuracy: 0.6914\n",
            "Epoch 192/200\n",
            "32/32 [==============================] - 1s 23ms/step - loss: 0.3254 - accuracy: 0.8540 - val_loss: 0.8019 - val_accuracy: 0.6829\n",
            "Epoch 193/200\n",
            "32/32 [==============================] - 1s 22ms/step - loss: 0.3286 - accuracy: 0.8524 - val_loss: 0.6990 - val_accuracy: 0.6943\n",
            "Epoch 194/200\n",
            "32/32 [==============================] - 1s 23ms/step - loss: 0.3216 - accuracy: 0.8521 - val_loss: 0.7384 - val_accuracy: 0.6914\n",
            "Epoch 195/200\n",
            "32/32 [==============================] - 1s 22ms/step - loss: 0.3161 - accuracy: 0.8556 - val_loss: 0.7708 - val_accuracy: 0.6829\n",
            "Epoch 196/200\n",
            "32/32 [==============================] - 1s 22ms/step - loss: 0.3107 - accuracy: 0.8619 - val_loss: 0.7801 - val_accuracy: 0.7286\n",
            "Epoch 197/200\n",
            "32/32 [==============================] - 1s 23ms/step - loss: 0.3041 - accuracy: 0.8603 - val_loss: 0.8590 - val_accuracy: 0.6914\n",
            "Epoch 198/200\n",
            "32/32 [==============================] - 1s 23ms/step - loss: 0.3105 - accuracy: 0.8619 - val_loss: 0.7700 - val_accuracy: 0.6829\n",
            "Epoch 199/200\n",
            "32/32 [==============================] - 1s 24ms/step - loss: 0.3028 - accuracy: 0.8657 - val_loss: 1.0065 - val_accuracy: 0.6200\n",
            "Epoch 200/200\n",
            "32/32 [==============================] - 1s 23ms/step - loss: 0.3014 - accuracy: 0.8679 - val_loss: 0.7498 - val_accuracy: 0.7086\n"
          ]
        },
        {
          "output_type": "execute_result",
          "data": {
            "text/plain": [
              "<tensorflow.python.keras.callbacks.History at 0x7f6ea1bc0790>"
            ]
          },
          "metadata": {},
          "execution_count": 131
        }
      ],
      "source": [
        "# number of training samples to use in each iteration of training\n",
        "batch_size = 100\n",
        "\n",
        "# train the deep neural network model on the training data\n",
        "w2v_dnn.fit(avg_wv_train_features, y_train, epochs=200, batch_size=batch_size, \n",
        "            shuffle=True, validation_split=0.1, verbose=1)"
      ]
    },
    {
      "cell_type": "code",
      "execution_count": 132,
      "metadata": {
        "colab": {
          "base_uri": "https://localhost:8080/"
        },
        "id": "bbKvHy4cyOPw",
        "outputId": "85b7fc12-7049-4a63-d485-07a4200417ba"
      },
      "outputs": [
        {
          "output_type": "stream",
          "name": "stderr",
          "text": [
            "/usr/local/lib/python3.8/dist-packages/tensorflow/python/keras/engine/sequential.py:455: UserWarning: `model.predict_classes()` is deprecated and will be removed after 2021-01-01. Please use instead:* `np.argmax(model.predict(x), axis=-1)`,   if your model does multi-class classification   (e.g. if it uses a `softmax` last-layer activation).* `(model.predict(x) > 0.5).astype(\"int32\")`,   if your model does binary classification   (e.g. if it uses a `sigmoid` last-layer activation).\n",
            "  warnings.warn('`model.predict_classes()` is deprecated and '\n"
          ]
        }
      ],
      "source": [
        "# use the deep neural network model to generate class predictions for the test data\n",
        "y_pred = w2v_dnn.predict_classes(avg_wv_test_features)\n",
        "\n",
        "# transform the encoded class predictions back into their original class labels\n",
        "predictions = le.inverse_transform(y_pred) "
      ]
    },
    {
      "cell_type": "code",
      "execution_count": 133,
      "metadata": {
        "id": "MGGcHb2RyOPy"
      },
      "outputs": [],
      "source": [
        "from sklearn import metrics\n",
        "\n",
        "# calculates and prints the accuracy, precision, recall, and F1 score of a model\n",
        "def get_metrics(true_labels, predicted_labels):\n",
        "    \n",
        "    print('Accuracy:', np.round(\n",
        "                        metrics.accuracy_score(true_labels, \n",
        "                                               predicted_labels),\n",
        "                        4))\n",
        "    print('Precision:', np.round(\n",
        "                        metrics.precision_score(true_labels, \n",
        "                                               predicted_labels,\n",
        "                                               average='weighted'),\n",
        "                        4))\n",
        "    print('Recall:', np.round(\n",
        "                        metrics.recall_score(true_labels, \n",
        "                                               predicted_labels,\n",
        "                                               average='weighted'),\n",
        "                        4))\n",
        "    print('F1 Score:', np.round(\n",
        "                        metrics.f1_score(true_labels, \n",
        "                                               predicted_labels,\n",
        "                                               average='weighted'),\n",
        "                        4))\n",
        "\n",
        "# calculates and prints a confusion matrix for a model\n",
        "def display_confusion_matrix(true_labels, predicted_labels, classes=[1,0]):\n",
        "    \n",
        "    total_classes = len(classes)\n",
        "    level_labels = [total_classes*[0], list(range(total_classes))]\n",
        "\n",
        "    cm = metrics.confusion_matrix(y_true=true_labels, y_pred=predicted_labels, \n",
        "                                  labels=classes)\n",
        "    cm_frame = pd.DataFrame(data=cm, \n",
        "                            columns=pd.MultiIndex(levels=[['Predicted:'], classes], \n",
        "                                                  codes=level_labels), \n",
        "                            index=pd.MultiIndex(levels=[['Actual:'], classes], \n",
        "                                                codes=level_labels)) \n",
        "    print(cm_frame) \n",
        "\n",
        "# calculates and prints a classification report for a model\n",
        "def display_classification_report(true_labels, predicted_labels, classes=[1,0]):\n",
        "\n",
        "    report = metrics.classification_report(y_true=true_labels, \n",
        "                                           y_pred=predicted_labels, \n",
        "                                           labels=classes) \n",
        "    print(report)\n",
        "    \n",
        "    \n",
        "\n",
        "# calculates and prints a summary of the model's performance. This includes the accuracy, precision, recall, F1 score, classification report, and confusion matrix\n",
        "def display_model_performance_metrics(true_labels, predicted_labels, classes=[1,0]):\n",
        "    print('Deep Learning DNN Model Performance metrics:')\n",
        "    print('-'*30)\n",
        "    get_metrics(true_labels=true_labels, predicted_labels=predicted_labels)\n",
        "    print('\\nDeep Learning DNN Model Classification report:')\n",
        "    print('-'*30)\n",
        "    display_classification_report(true_labels=true_labels, predicted_labels=predicted_labels, classes=classes)\n",
        "    print('\\nDeep Learning DNN Prediction Confusion Matrix:')\n",
        "    print('-'*30)\n",
        "    display_confusion_matrix(true_labels=true_labels, predicted_labels=predicted_labels, classes=classes)"
      ]
    },
    {
      "cell_type": "code",
      "execution_count": 134,
      "metadata": {
        "colab": {
          "base_uri": "https://localhost:8080/"
        },
        "id": "CYdYMBmmyOPz",
        "outputId": "eef3c25a-7487-4738-ff10-20d1057bd1f6"
      },
      "outputs": [
        {
          "output_type": "stream",
          "name": "stdout",
          "text": [
            "Deep Learning DNN Model Performance metrics:\n",
            "------------------------------\n",
            "Accuracy: 0.862\n",
            "Precision: 0.8633\n",
            "Recall: 0.862\n",
            "F1 Score: 0.8619\n",
            "\n",
            "Deep Learning DNN Model Classification report:\n",
            "------------------------------\n",
            "              precision    recall  f1-score   support\n",
            "\n",
            "           1       0.89      0.83      0.86       251\n",
            "           0       0.84      0.89      0.87       249\n",
            "\n",
            "    accuracy                           0.86       500\n",
            "   macro avg       0.86      0.86      0.86       500\n",
            "weighted avg       0.86      0.86      0.86       500\n",
            "\n",
            "\n",
            "Deep Learning DNN Prediction Confusion Matrix:\n",
            "------------------------------\n",
            "          Predicted:     \n",
            "                   1    0\n",
            "Actual: 1        209   42\n",
            "        0         27  222\n"
          ]
        }
      ],
      "source": [
        "# display model performance metrics using the test set\n",
        "display_model_performance_metrics(true_labels=test_sentiments, predicted_labels=predictions, \n",
        "                                      classes=[1, 0])  "
      ]
    }
  ],
  "metadata": {
    "kernelspec": {
      "display_name": "Python 3 (ipykernel)",
      "language": "python",
      "name": "python3"
    },
    "language_info": {
      "codemirror_mode": {
        "name": "ipython",
        "version": 3
      },
      "file_extension": ".py",
      "mimetype": "text/x-python",
      "name": "python",
      "nbconvert_exporter": "python",
      "pygments_lexer": "ipython3",
      "version": "3.10.8"
    },
    "toc": {
      "base_numbering": 1,
      "nav_menu": {},
      "number_sections": true,
      "sideBar": true,
      "skip_h1_title": false,
      "title_cell": "Table of Contents",
      "title_sidebar": "Contents",
      "toc_cell": false,
      "toc_position": {},
      "toc_section_display": true,
      "toc_window_display": false
    },
    "varInspector": {
      "cols": {
        "lenName": 16,
        "lenType": 16,
        "lenVar": 40
      },
      "kernels_config": {
        "python": {
          "delete_cmd_postfix": "",
          "delete_cmd_prefix": "del ",
          "library": "var_list.py",
          "varRefreshCmd": "print(var_dic_list())"
        },
        "r": {
          "delete_cmd_postfix": ") ",
          "delete_cmd_prefix": "rm(",
          "library": "var_list.r",
          "varRefreshCmd": "cat(var_dic_list()) "
        }
      },
      "types_to_exclude": [
        "module",
        "function",
        "builtin_function_or_method",
        "instance",
        "_Feature"
      ],
      "window_display": false
    },
    "colab": {
      "provenance": []
    }
  },
  "nbformat": 4,
  "nbformat_minor": 0
}